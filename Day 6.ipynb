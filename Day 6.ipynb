{
 "cells": [
  {
   "cell_type": "code",
   "execution_count": 1,
   "metadata": {},
   "outputs": [
    {
     "name": "stdout",
     "output_type": "stream",
     "text": [
      "<built-in method start of re.Match object at 0x000000B5A6245098> ... 2 ... ab\n",
      "<built-in method start of re.Match object at 0x000000B5A6245100> ... 5 ... ab\n",
      "<built-in method start of re.Match object at 0x000000B5A6245098> ... 7 ... ab\n",
      "the number of occurences: 3\n"
     ]
    }
   ],
   "source": [
    "import re\n",
    "count=0\n",
    "pattern=re.compile(\"ab\")\n",
    "matcher=pattern.finditer(\"abaababa\")\n",
    "for match in matcher:\n",
    "    count+=1\n",
    "    print(match.start,\"...\",match.end(),\"...\",match.group())\n",
    "print(\"the number of occurences:\",count)    "
   ]
  },
  {
   "cell_type": "code",
   "execution_count": 2,
   "metadata": {},
   "outputs": [
    {
     "name": "stdout",
     "output_type": "stream",
     "text": [
      "0 ... a\n",
      "2 ... b\n",
      "7 ... c\n"
     ]
    }
   ],
   "source": [
    "import re\n",
    "matcher=re.finditer(\"[abc]\",\"a7b@k9zc\")\n",
    "for match in matcher:\n",
    "    print(match.start(),\"...\",match.group())"
   ]
  },
  {
   "cell_type": "code",
   "execution_count": 3,
   "metadata": {},
   "outputs": [
    {
     "name": "stdout",
     "output_type": "stream",
     "text": [
      "1 ... 7\n",
      "3 ... @\n",
      "4 ... k\n",
      "5 ... 9\n",
      "6 ... z\n"
     ]
    }
   ],
   "source": [
    "import re\n",
    "matcher=re.finditer(\"[^abc]\",\"a7b@k9zc\")\n",
    "for match in matcher:\n",
    "    print(match.start(),\"...\",match.group())"
   ]
  },
  {
   "cell_type": "code",
   "execution_count": 4,
   "metadata": {},
   "outputs": [
    {
     "name": "stdout",
     "output_type": "stream",
     "text": [
      "0 ... a\n",
      "2 ... b\n",
      "4 ... k\n",
      "6 ... z\n",
      "7 ... c\n"
     ]
    }
   ],
   "source": [
    "import re\n",
    "matcher=re.finditer(\"[a-z]\",\"a7b@k9zc\")\n",
    "for match in matcher:\n",
    "    print(match.start(),\"...\",match.group())"
   ]
  },
  {
   "cell_type": "code",
   "execution_count": 5,
   "metadata": {},
   "outputs": [
    {
     "name": "stdout",
     "output_type": "stream",
     "text": [
      "1 ... 7\n",
      "5 ... 9\n"
     ]
    }
   ],
   "source": [
    "import re\n",
    "matcher=re.finditer(\"[0-9]\",\"a7b@k9zc\")\n",
    "for match in matcher:\n",
    "    print(match.start(),\"...\",match.group())"
   ]
  },
  {
   "cell_type": "code",
   "execution_count": 6,
   "metadata": {},
   "outputs": [
    {
     "name": "stdout",
     "output_type": "stream",
     "text": [
      "0 ... a\n",
      "1 ... 7\n",
      "2 ... b\n",
      "3 ... C\n",
      "5 ... k\n",
      "6 ... 9\n",
      "7 ... z\n",
      "8 ... c\n"
     ]
    }
   ],
   "source": [
    "import re\n",
    "matcher=re.finditer(\"[a-zA-Z0-9]\",\"a7bC@k9zc\")\n",
    "for match in matcher:\n",
    "    print(match.start(),\"...\",match.group())"
   ]
  },
  {
   "cell_type": "code",
   "execution_count": 7,
   "metadata": {},
   "outputs": [
    {
     "name": "stdout",
     "output_type": "stream",
     "text": [
      "4 ...  \n"
     ]
    }
   ],
   "source": [
    "import re\n",
    "matcher=re.finditer(\"\\s\",\"a7bC @k9zc\")\n",
    "for match in matcher:\n",
    "    print(match.start(),\"...\",match.group())"
   ]
  },
  {
   "cell_type": "code",
   "execution_count": 8,
   "metadata": {},
   "outputs": [
    {
     "name": "stdout",
     "output_type": "stream",
     "text": [
      "1 ... 7\n",
      "7 ... 9\n"
     ]
    }
   ],
   "source": [
    "import re\n",
    "matcher=re.finditer(\"\\d\",\"a7bC @k9zc\")\n",
    "for match in matcher:\n",
    "    print(match.start(),\"...\",match.group())\n"
   ]
  },
  {
   "cell_type": "code",
   "execution_count": 9,
   "metadata": {},
   "outputs": [
    {
     "name": "stdout",
     "output_type": "stream",
     "text": [
      "0 ... a\n",
      "2 ... b\n",
      "3 ... C\n",
      "4 ...  \n",
      "5 ... @\n",
      "6 ... k\n",
      "8 ... z\n",
      "9 ... c\n"
     ]
    }
   ],
   "source": [
    "import re\n",
    "matcher=re.finditer(\"\\D\",\"a7bC @k9zc\")\n",
    "for match in matcher:\n",
    "    print(match.start(),\"...\",match.group())"
   ]
  },
  {
   "cell_type": "code",
   "execution_count": 10,
   "metadata": {},
   "outputs": [
    {
     "name": "stdout",
     "output_type": "stream",
     "text": [
      "0 ... a\n",
      "1 ... 7\n",
      "2 ... b\n",
      "3 ... C\n",
      "6 ... k\n",
      "7 ... 9\n",
      "8 ... z\n",
      "9 ... c\n"
     ]
    }
   ],
   "source": [
    "import re\n",
    "matcher=re.finditer(\"\\w\",\"a7bC @k9zc\")\n",
    "for match in matcher:\n",
    "    print(match.start(),\"...\",match.group())"
   ]
  },
  {
   "cell_type": "code",
   "execution_count": 11,
   "metadata": {},
   "outputs": [
    {
     "name": "stdout",
     "output_type": "stream",
     "text": [
      "4 ...  \n",
      "5 ... @\n"
     ]
    }
   ],
   "source": [
    "import re\n",
    "matcher=re.finditer(\"\\W\",\"a7bC @k9zc\")\n",
    "for match in matcher:\n",
    "    print(match.start(),\"...\",match.group())"
   ]
  },
  {
   "cell_type": "code",
   "execution_count": 12,
   "metadata": {},
   "outputs": [
    {
     "name": "stdout",
     "output_type": "stream",
     "text": [
      "0 ... a\n",
      "2 ... aa\n",
      "5 ... aaa\n"
     ]
    }
   ],
   "source": [
    "matcher=re.finditer(\"a+\",\"abaabaaab\")\n",
    "for match in matcher:\n",
    "    print(match.start(),\"...\",match.group())"
   ]
  },
  {
   "cell_type": "code",
   "execution_count": 13,
   "metadata": {},
   "outputs": [
    {
     "name": "stdout",
     "output_type": "stream",
     "text": [
      "0 ... a\n",
      "1 ... \n",
      "2 ... a\n",
      "3 ... a\n",
      "4 ... \n",
      "5 ... a\n",
      "6 ... a\n",
      "7 ... a\n",
      "8 ... \n",
      "9 ... \n"
     ]
    }
   ],
   "source": [
    "matcher=re.finditer(\"a?\",\"abaabaaab\")\n",
    "for match in matcher:\n",
    "    print(match.start(),\"...\",match.group())"
   ]
  },
  {
   "cell_type": "code",
   "execution_count": 14,
   "metadata": {},
   "outputs": [
    {
     "name": "stdout",
     "output_type": "stream",
     "text": [
      "5 ... aaa\n"
     ]
    }
   ],
   "source": [
    "matcher=re.finditer(\"a{3}\",\"abaabaaab\")\n",
    "for match in matcher:\n",
    "    print(match.start(),\"...\",match.group())"
   ]
  },
  {
   "cell_type": "code",
   "execution_count": 15,
   "metadata": {},
   "outputs": [
    {
     "name": "stdout",
     "output_type": "stream",
     "text": [
      "2 ... aa\n",
      "5 ... aaa\n"
     ]
    }
   ],
   "source": [
    "matcher=re.finditer(\"a{2,4}\",\"abaabaaab\")\n",
    "for match in matcher:\n",
    "    print(match.start(),\"...\",match.group())"
   ]
  },
  {
   "cell_type": "code",
   "execution_count": 16,
   "metadata": {},
   "outputs": [
    {
     "name": "stdout",
     "output_type": "stream",
     "text": [
      "Target String starts with Learn\n"
     ]
    }
   ],
   "source": [
    "s=\"Learning Python is very Easy\"\n",
    "res=re.search(\"^Learn\",s)\n",
    "if res!=None:\n",
    "   print(\"Target String starts with Learn\")\n",
    "else:\n",
    "   print(\"Target String does'nt starts with Learn\")\n",
    "   "
   ]
  },
  {
   "cell_type": "code",
   "execution_count": 17,
   "metadata": {},
   "outputs": [
    {
     "name": "stdout",
     "output_type": "stream",
     "text": [
      "Target String ends with Easy\n"
     ]
    }
   ],
   "source": [
    "s=\"Learning Python is very Easy\"\n",
    "res=re.search(\"Easy$\",s)\n",
    "if res!=None:\n",
    "   print(\"Target String ends with Easy\")\n",
    "else:\n",
    "   print(\"Target String does'nt ens with Easy\")"
   ]
  },
  {
   "cell_type": "code",
   "execution_count": 18,
   "metadata": {},
   "outputs": [
    {
     "name": "stdout",
     "output_type": "stream",
     "text": [
      "Target String ends with Easy\n"
     ]
    }
   ],
   "source": [
    "s=\"Learning Python is very Easy\"\n",
    "res=re.search(\"easy$\",s,re.IGNORECASE)\n",
    "if res!=None:\n",
    "   print(\"Target String ends with Easy\")\n",
    "else:\n",
    "   print(\"Target String does'nt ens with Easy\")"
   ]
  },
  {
   "cell_type": "code",
   "execution_count": 19,
   "metadata": {},
   "outputs": [
    {
     "name": "stdout",
     "output_type": "stream",
     "text": [
      "enetr a number98745621\n",
      "not valid\n"
     ]
    }
   ],
   "source": [
    "inp=input(\"enetr a number\")\n",
    "res=re.search(\"^[6789][0-9]{9}\",inp)\n",
    "if res!=None:\n",
    "    print(\"valid\")\n",
    "else:\n",
    "    print(\"not valid\")"
   ]
  },
  {
   "cell_type": "code",
   "execution_count": 20,
   "metadata": {},
   "outputs": [
    {
     "name": "stdout",
     "output_type": "stream",
     "text": [
      "extracted all mobile numbers\n"
     ]
    }
   ],
   "source": [
    "f1=open(\"input.txt\",\"r\")\n",
    "f2=open(\"output.txt\",\"w\")\n",
    "for line in f1:\n",
    "    line=line.rstrip()\n",
    "    list=re.findall(\"^[6-9]\\d{9}\",line)\n",
    "    for n in list:\n",
    "        f2.write(n+\"\\n\")\n",
    "print(\"extracted all mobile numbers\")\n",
    "f1.close()\n",
    "f2.close()\n",
    "    "
   ]
  },
  {
   "cell_type": "code",
   "execution_count": null,
   "metadata": {},
   "outputs": [],
   "source": [
    "import pandas as pd\n",
    "train=pd.read_csv(\"titanic_train.csv\")\n",
    "train.head()"
   ]
  },
  {
   "cell_type": "code",
   "execution_count": null,
   "metadata": {},
   "outputs": [],
   "source": [
    "import re\n",
    "inp=input(\"enter number plate\")\n",
    "res=re.fullmatch(\"KA[0][0-6][A-Z]{2}\\d{4}\",inp)\n",
    "if res!=None:\n",
    "    print(\"valid\")\n",
    "else:\n",
    "    print(\"invalid\")"
   ]
  },
  {
   "cell_type": "code",
   "execution_count": null,
   "metadata": {},
   "outputs": [],
   "source": [
    "s=input(\"enter email id\")\n",
    "m=re.fullmatch(\"\\W[a-zA-Z0-9_.]*@gmail[.]com\",s)\n",
    "if m!=None:\n",
    "    print(\"valid\")\n",
    "else:\n",
    "    print(\"invalid\")"
   ]
  },
  {
   "cell_type": "code",
   "execution_count": null,
   "metadata": {},
   "outputs": [],
   "source": []
  }
 ],
 "metadata": {
  "kernelspec": {
   "display_name": "Python 3",
   "language": "python",
   "name": "python3"
  },
  "language_info": {
   "codemirror_mode": {
    "name": "ipython",
    "version": 3
   },
   "file_extension": ".py",
   "mimetype": "text/x-python",
   "name": "python",
   "nbconvert_exporter": "python",
   "pygments_lexer": "ipython3",
   "version": "3.7.3"
  }
 },
 "nbformat": 4,
 "nbformat_minor": 2
}
